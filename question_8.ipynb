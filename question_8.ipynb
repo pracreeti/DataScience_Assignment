{
 "cells": [
  {
   "cell_type": "code",
   "execution_count": 2,
   "id": "0cc993b9-7d8c-4d7f-8a85-b45c098cd20d",
   "metadata": {},
   "outputs": [],
   "source": [
    "cities_population={\n",
    "    \"kathmandu\":20000,\n",
    "    \"Bhaktapur\":15000,\n",
    "    \"Lalitpur\":12000,\n",
    "    \"Chitwan\":2000,\n",
    "    \"Pokhara\":10000\n",
    "}"
   ]
  },
  {
   "cell_type": "code",
   "execution_count": 4,
   "id": "f825d929-aa07-4a06-a42c-7063f9df2aa4",
   "metadata": {},
   "outputs": [
    {
     "data": {
      "text/plain": [
       "{'kathmandu': 20000,\n",
       " 'Bhaktapur': 15000,\n",
       " 'Lalitpur': 12000,\n",
       " 'Chitwan': 2000,\n",
       " 'Pokhara': 10000}"
      ]
     },
     "execution_count": 4,
     "metadata": {},
     "output_type": "execute_result"
    }
   ],
   "source": [
    "cities_population"
   ]
  },
  {
   "cell_type": "code",
   "execution_count": 8,
   "id": "4bd7afb9-936d-41a3-b770-0dd419ef0748",
   "metadata": {},
   "outputs": [
    {
     "ename": "KeyError",
     "evalue": "10000",
     "output_type": "error",
     "traceback": [
      "\u001b[1;31m---------------------------------------------------------------------------\u001b[0m",
      "\u001b[1;31mKeyError\u001b[0m                                  Traceback (most recent call last)",
      "Cell \u001b[1;32mIn[8], line 1\u001b[0m\n\u001b[1;32m----> 1\u001b[0m \u001b[38;5;28;01mdel\u001b[39;00m cities_population[\u001b[38;5;241m10000\u001b[39m]\n",
      "\u001b[1;31mKeyError\u001b[0m: 10000"
     ]
    }
   ],
   "source": [
    "cities_population.pop(\"Chi)"
   ]
  },
  {
   "cell_type": "code",
   "execution_count": null,
   "id": "12845967-a447-46e8-9dae-76307000320c",
   "metadata": {},
   "outputs": [],
   "source": []
  }
 ],
 "metadata": {
  "kernelspec": {
   "display_name": "Python 3 (ipykernel)",
   "language": "python",
   "name": "python3"
  },
  "language_info": {
   "codemirror_mode": {
    "name": "ipython",
    "version": 3
   },
   "file_extension": ".py",
   "mimetype": "text/x-python",
   "name": "python",
   "nbconvert_exporter": "python",
   "pygments_lexer": "ipython3",
   "version": "3.11.7"
  }
 },
 "nbformat": 4,
 "nbformat_minor": 5
}
