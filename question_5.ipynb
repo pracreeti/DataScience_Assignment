{
 "cells": [
  {
   "cell_type": "code",
   "execution_count": 2,
   "id": "e9ab49c8-291f-40fe-b729-a7bd398a72c8",
   "metadata": {},
   "outputs": [],
   "source": [
    "my_favourite_colours=[\"Blue\",\"Red\",\"Maroon\",\"Black\",\"Pink\"]"
   ]
  },
  {
   "cell_type": "code",
   "execution_count": 4,
   "id": "3adc3453-01a2-46a6-a399-6bbea806b00e",
   "metadata": {},
   "outputs": [
    {
     "data": {
      "text/plain": [
       "['Blue', 'Red', 'Maroon', 'Black', 'Pink']"
      ]
     },
     "execution_count": 4,
     "metadata": {},
     "output_type": "execute_result"
    }
   ],
   "source": [
    "my_favourite_colours"
   ]
  },
  {
   "cell_type": "code",
   "execution_count": 6,
   "id": "1499a1ea-0c27-4235-afb6-43bf2ab23d22",
   "metadata": {},
   "outputs": [
    {
     "name": "stdout",
     "output_type": "stream",
     "text": [
      "True\n"
     ]
    }
   ],
   "source": [
    "print(\"Maroon\" in my_favourite_colours)"
   ]
  },
  {
   "cell_type": "code",
   "execution_count": null,
   "id": "75083ffd-f083-442f-acba-02efe2a88987",
   "metadata": {},
   "outputs": [],
   "source": []
  }
 ],
 "metadata": {
  "kernelspec": {
   "display_name": "Python 3 (ipykernel)",
   "language": "python",
   "name": "python3"
  },
  "language_info": {
   "codemirror_mode": {
    "name": "ipython",
    "version": 3
   },
   "file_extension": ".py",
   "mimetype": "text/x-python",
   "name": "python",
   "nbconvert_exporter": "python",
   "pygments_lexer": "ipython3",
   "version": "3.11.7"
  }
 },
 "nbformat": 4,
 "nbformat_minor": 5
}
