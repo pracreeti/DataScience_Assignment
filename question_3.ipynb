{
 "cells": [
  {
   "cell_type": "code",
   "execution_count": 30,
   "id": "d25d8237-90a4-43df-bc9f-c26f7cff2b6f",
   "metadata": {},
   "outputs": [],
   "source": [
    "mixed_list=[1,2.3,\"Happy\",222.989,\"Hello\",\"Python\"]"
   ]
  },
  {
   "cell_type": "code",
   "execution_count": 32,
   "id": "f3b1daa1-8daf-45df-a9b3-50a70083288b",
   "metadata": {},
   "outputs": [
    {
     "name": "stdout",
     "output_type": "stream",
     "text": [
      "original list is: [1, 2.3, 'Happy', 222.989, 'Hello', 'Python']\n"
     ]
    }
   ],
   "source": [
    "print(\"original list is:\", mixed_list)"
   ]
  },
  {
   "cell_type": "code",
   "execution_count": 34,
   "id": "68a24abc-d11c-4c25-84c5-d6be64d41340",
   "metadata": {},
   "outputs": [
    {
     "data": {
      "text/plain": [
       "'Python'"
      ]
     },
     "execution_count": 34,
     "metadata": {},
     "output_type": "execute_result"
    }
   ],
   "source": [
    "mixed_list.pop()"
   ]
  },
  {
   "cell_type": "code",
   "execution_count": 36,
   "id": "6fcf44ed-ad6c-4222-b243-eacc050cde82",
   "metadata": {},
   "outputs": [
    {
     "name": "stdout",
     "output_type": "stream",
     "text": [
      "List after removing first element: [1, 2.3, 'Happy', 222.989, 'Hello']\n"
     ]
    }
   ],
   "source": [
    "print(\"List after removing first element:\",mixed_list)"
   ]
  },
  {
   "cell_type": "code",
   "execution_count": null,
   "id": "5048ff24-ba9e-4ed8-85ba-db5dcc54fcc0",
   "metadata": {},
   "outputs": [],
   "source": []
  }
 ],
 "metadata": {
  "kernelspec": {
   "display_name": "Python 3 (ipykernel)",
   "language": "python",
   "name": "python3"
  },
  "language_info": {
   "codemirror_mode": {
    "name": "ipython",
    "version": 3
   },
   "file_extension": ".py",
   "mimetype": "text/x-python",
   "name": "python",
   "nbconvert_exporter": "python",
   "pygments_lexer": "ipython3",
   "version": "3.11.7"
  }
 },
 "nbformat": 4,
 "nbformat_minor": 5
}
