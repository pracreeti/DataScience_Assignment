{
 "cells": [
  {
   "cell_type": "code",
   "execution_count": 2,
   "id": "4241f3d1-1882-4585-ae78-e31a4235f6c2",
   "metadata": {},
   "outputs": [
    {
     "data": {
      "text/plain": [
       "['Harry Potter', 'Vampire Diaries', 'Inception', 'The 100']"
      ]
     },
     "execution_count": 2,
     "metadata": {},
     "output_type": "execute_result"
    }
   ],
   "source": [
    "favourite_movies=['Harry Potter','Vampire Diaries','Inception','The 100']\n",
    "favourite_movies"
   ]
  },
  {
   "cell_type": "code",
   "execution_count": 20,
   "id": "64eecb89-5919-4d2c-8655-8ee7a1f75901",
   "metadata": {},
   "outputs": [],
   "source": [
    "favourite_movies.append('The Fault in our stars')"
   ]
  },
  {
   "cell_type": "code",
   "execution_count": 6,
   "id": "141bf419-5cc9-4062-aabe-5c375c35d2ef",
   "metadata": {},
   "outputs": [
    {
     "data": {
      "text/plain": [
       "['Harry Potter',\n",
       " 'Vampire Diaries',\n",
       " 'Inception',\n",
       " 'The 100',\n",
       " 'The Fault in our stars']"
      ]
     },
     "execution_count": 6,
     "metadata": {},
     "output_type": "execute_result"
    }
   ],
   "source": [
    "favourite_movies"
   ]
  },
  {
   "cell_type": "code",
   "execution_count": 12,
   "id": "4785430b-c4fc-45db-b2c7-f0615e117cc8",
   "metadata": {},
   "outputs": [],
   "source": [
    "new_list=['The murder mystery','Nai nabhannu la','Hostel']"
   ]
  },
  {
   "cell_type": "code",
   "execution_count": 16,
   "id": "d36ef846-3306-4bca-8f13-2c71e26b0add",
   "metadata": {},
   "outputs": [],
   "source": [
    "favourite_movies.append(new_list)"
   ]
  },
  {
   "cell_type": "code",
   "execution_count": 18,
   "id": "ffed7460-528e-4231-aba5-d7b82bee16d5",
   "metadata": {},
   "outputs": [
    {
     "data": {
      "text/plain": [
       "['Harry Potter',\n",
       " 'Vampire Diaries',\n",
       " 'Inception',\n",
       " 'The 100',\n",
       " 'The Fault in our stars',\n",
       " 'The Fault in our stars',\n",
       " ['The murder mystery', 'Nai nabhannu la', 'Hostel']]"
      ]
     },
     "execution_count": 18,
     "metadata": {},
     "output_type": "execute_result"
    }
   ],
   "source": [
    "favourite_movies"
   ]
  },
  {
   "cell_type": "code",
   "execution_count": null,
   "id": "76b675df-f417-4fdb-8201-e8911c22711a",
   "metadata": {},
   "outputs": [],
   "source": []
  }
 ],
 "metadata": {
  "kernelspec": {
   "display_name": "Python 3 (ipykernel)",
   "language": "python",
   "name": "python3"
  },
  "language_info": {
   "codemirror_mode": {
    "name": "ipython",
    "version": 3
   },
   "file_extension": ".py",
   "mimetype": "text/x-python",
   "name": "python",
   "nbconvert_exporter": "python",
   "pygments_lexer": "ipython3",
   "version": "3.11.7"
  }
 },
 "nbformat": 4,
 "nbformat_minor": 5
}
