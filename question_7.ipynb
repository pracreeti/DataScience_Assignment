{
 "cells": [
  {
   "cell_type": "code",
   "execution_count": 2,
   "id": "0018e21e-2f82-40c6-a223-735e8c2cb22e",
   "metadata": {},
   "outputs": [],
   "source": [
    "fruits_info={\n",
    "    \"Apple\":\"Red\",\n",
    "    \"Banana\":\"Yellow\",\n",
    "    \"Orange\":\"Orange\",\n",
    "    \"Kiwi\":\"Green\"\n",
    "}"
   ]
  },
  {
   "cell_type": "code",
   "execution_count": 4,
   "id": "be509b27-7e0b-434d-bf40-869bbcaaf6fe",
   "metadata": {},
   "outputs": [
    {
     "data": {
      "text/plain": [
       "{'Apple': 'Red', 'Banana': 'Yellow', 'Orange': 'Orange', 'Kiwi': 'Green'}"
      ]
     },
     "execution_count": 4,
     "metadata": {},
     "output_type": "execute_result"
    }
   ],
   "source": [
    "fruits_info"
   ]
  },
  {
   "cell_type": "code",
   "execution_count": 6,
   "id": "06325d42-d3c3-403d-9ffd-2008c1aefe91",
   "metadata": {},
   "outputs": [],
   "source": [
    "fruits_info.update({\"Grapes\":\"Black\"})"
   ]
  },
  {
   "cell_type": "code",
   "execution_count": 8,
   "id": "fc0d3c60-4687-4a99-97f3-51a0fa2a0cc4",
   "metadata": {},
   "outputs": [
    {
     "data": {
      "text/plain": [
       "{'Apple': 'Red',\n",
       " 'Banana': 'Yellow',\n",
       " 'Orange': 'Orange',\n",
       " 'Kiwi': 'Green',\n",
       " 'Grapes': 'Black'}"
      ]
     },
     "execution_count": 8,
     "metadata": {},
     "output_type": "execute_result"
    }
   ],
   "source": [
    "fruits_info"
   ]
  },
  {
   "cell_type": "code",
   "execution_count": null,
   "id": "fe1b79f2-e009-4fe9-ab44-c74090e3665a",
   "metadata": {},
   "outputs": [],
   "source": []
  }
 ],
 "metadata": {
  "kernelspec": {
   "display_name": "Python 3 (ipykernel)",
   "language": "python",
   "name": "python3"
  },
  "language_info": {
   "codemirror_mode": {
    "name": "ipython",
    "version": 3
   },
   "file_extension": ".py",
   "mimetype": "text/x-python",
   "name": "python",
   "nbconvert_exporter": "python",
   "pygments_lexer": "ipython3",
   "version": "3.11.7"
  }
 },
 "nbformat": 4,
 "nbformat_minor": 5
}
