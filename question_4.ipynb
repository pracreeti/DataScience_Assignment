{
 "cells": [
  {
   "cell_type": "code",
   "execution_count": 2,
   "id": "13dabb59-b674-4a8c-a172-f93be21b011a",
   "metadata": {},
   "outputs": [],
   "source": [
    "days_name=(\"sunday\",\"monday\",\"tuesday\",\"wednesday\",\"thursday\",\"friday\",\"saturday\")"
   ]
  },
  {
   "cell_type": "code",
   "execution_count": 4,
   "id": "63dd32d8-95bf-4267-9af5-a85975e9f068",
   "metadata": {},
   "outputs": [
    {
     "data": {
      "text/plain": [
       "('sunday', 'monday', 'tuesday', 'wednesday', 'thursday', 'friday', 'saturday')"
      ]
     },
     "execution_count": 4,
     "metadata": {},
     "output_type": "execute_result"
    }
   ],
   "source": [
    "days_name"
   ]
  },
  {
   "cell_type": "code",
   "execution_count": 6,
   "id": "3e5a8d89-a025-49ea-b645-e15803e60c36",
   "metadata": {},
   "outputs": [
    {
     "data": {
      "text/plain": [
       "'tuesday'"
      ]
     },
     "execution_count": 6,
     "metadata": {},
     "output_type": "execute_result"
    }
   ],
   "source": [
    "days_name[2]"
   ]
  },
  {
   "cell_type": "code",
   "execution_count": 8,
   "id": "e8b6d5b0-5dea-40ff-a76e-2ff0c010ae99",
   "metadata": {},
   "outputs": [
    {
     "name": "stdout",
     "output_type": "stream",
     "text": [
      "tuesday\n"
     ]
    }
   ],
   "source": [
    "print(days_name[2])"
   ]
  },
  {
   "cell_type": "code",
   "execution_count": null,
   "id": "a229b1f4-9a57-41c9-a8fc-352831e2c930",
   "metadata": {},
   "outputs": [],
   "source": []
  }
 ],
 "metadata": {
  "kernelspec": {
   "display_name": "Python 3 (ipykernel)",
   "language": "python",
   "name": "python3"
  },
  "language_info": {
   "codemirror_mode": {
    "name": "ipython",
    "version": 3
   },
   "file_extension": ".py",
   "mimetype": "text/x-python",
   "name": "python",
   "nbconvert_exporter": "python",
   "pygments_lexer": "ipython3",
   "version": "3.11.7"
  }
 },
 "nbformat": 4,
 "nbformat_minor": 5
}
