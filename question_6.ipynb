{
 "cells": [
  {
   "cell_type": "code",
   "execution_count": 10,
   "id": "2d22f557-bacb-4ab8-b69f-1f7195dd94f4",
   "metadata": {},
   "outputs": [],
   "source": [
    "book_details={\n",
    "  \"title\":\"Crime and punishment\",\n",
    "    \"author\":\"James Bond\",\n",
    "    \"year\":2005\n",
    "}\n"
   ]
  },
  {
   "cell_type": "code",
   "execution_count": 12,
   "id": "5c213aca-b7db-44d8-95ed-d14b7bb030ec",
   "metadata": {},
   "outputs": [
    {
     "data": {
      "text/plain": [
       "{'title': 'Crime and punishment', 'author': 'James Bond', 'year': 2005}"
      ]
     },
     "execution_count": 12,
     "metadata": {},
     "output_type": "execute_result"
    }
   ],
   "source": [
    "book_details"
   ]
  },
  {
   "cell_type": "code",
   "execution_count": 16,
   "id": "d6e43f97-a0ad-4c8e-97f9-835c04fcfd4b",
   "metadata": {},
   "outputs": [],
   "source": [
    "book_details[\"year\"]=2008"
   ]
  },
  {
   "cell_type": "code",
   "execution_count": 18,
   "id": "ddd69e9e-def6-4318-9abc-97426a595286",
   "metadata": {},
   "outputs": [
    {
     "data": {
      "text/plain": [
       "{'title': 'Crime and punishment', 'author': 'James Bond', 'year': 2008}"
      ]
     },
     "execution_count": 18,
     "metadata": {},
     "output_type": "execute_result"
    }
   ],
   "source": [
    "book_details"
   ]
  },
  {
   "cell_type": "code",
   "execution_count": null,
   "id": "fe059984-8cfb-4083-afec-4ff12bdea324",
   "metadata": {},
   "outputs": [],
   "source": []
  }
 ],
 "metadata": {
  "kernelspec": {
   "display_name": "Python 3 (ipykernel)",
   "language": "python",
   "name": "python3"
  },
  "language_info": {
   "codemirror_mode": {
    "name": "ipython",
    "version": 3
   },
   "file_extension": ".py",
   "mimetype": "text/x-python",
   "name": "python",
   "nbconvert_exporter": "python",
   "pygments_lexer": "ipython3",
   "version": "3.11.7"
  }
 },
 "nbformat": 4,
 "nbformat_minor": 5
}
